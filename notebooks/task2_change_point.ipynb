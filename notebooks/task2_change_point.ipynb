{
 "cells": [
  {
   "cell_type": "code",
   "execution_count": 11,
   "id": "6f24eba0-86b5-42c6-b014-342f8efe6cf7",
   "metadata": {},
   "outputs": [
    {
     "name": "stderr",
     "output_type": "stream",
     "text": [
      "Multiprocess sampling (2 chains in 2 jobs)\n",
      "CompoundStep\n",
      ">Metropolis: [tau]\n",
      ">NUTS: [mu_1, mu_2, sigma]\n"
     ]
    },
    {
     "data": {
      "application/vnd.jupyter.widget-view+json": {
       "model_id": "a55812caf94d4751ae1f45a1a7358781",
       "version_major": 2,
       "version_minor": 0
      },
      "text/plain": [
       "Output()"
      ]
     },
     "metadata": {},
     "output_type": "display_data"
    },
    {
     "data": {
      "text/html": [
       "<pre style=\"white-space:pre;overflow-x:auto;line-height:normal;font-family:Menlo,'DejaVu Sans Mono',consolas,'Courier New',monospace\"></pre>\n"
      ],
      "text/plain": []
     },
     "metadata": {},
     "output_type": "display_data"
    },
    {
     "data": {
      "text/html": [
       "<pre style=\"white-space:pre;overflow-x:auto;line-height:normal;font-family:Menlo,'DejaVu Sans Mono',consolas,'Courier New',monospace\">\n",
       "</pre>\n"
      ],
      "text/plain": [
       "\n"
      ]
     },
     "metadata": {},
     "output_type": "display_data"
    },
    {
     "name": "stderr",
     "output_type": "stream",
     "text": [
      "Sampling 2 chains for 100 tune and 200 draw iterations (200 + 400 draws total) took 344 seconds.\n",
      "We recommend running at least 4 chains for robust computation of convergence diagnostics\n",
      "The rhat statistic is larger than 1.01 for some parameters. This indicates problems during sampling. See https://arxiv.org/abs/1903.08008 for details\n",
      "The effective sample size per chain is smaller than 100 for some parameters.  A higher number is needed for reliable rhat and ess computation. See https://arxiv.org/abs/1903.08008 for details\n"
     ]
    },
    {
     "name": "stdout",
     "output_type": "stream",
     "text": [
      "\n",
      "Change Point Analysis Results (2015–2022, Monthly):\n",
      "- Most Likely Change Point: 30-Sep-2017 (Index: 32)\n",
      "- Mean Price Before: $49.88\n",
      "- Mean Price After: $69.21\n",
      "- Price Change: 38.75%\n",
      "- Closest Event: OPEC agrees to production cuts on 30-Nov-2016\n",
      "\n"
     ]
    }
   ],
   "source": [
    "# Cell 1: Imports and Data Loading\n",
    "import pandas as pd\n",
    "import numpy as np\n",
    "import pymc as pm\n",
    "import matplotlib.pyplot as plt\n",
    "import seaborn as sns\n",
    "from datetime import datetime\n",
    "\n",
    "sns.set(style=\"whitegrid\")\n",
    "\n",
    "# Load Brent oil price data, filter 2015–2022, and downsample to monthly averages\n",
    "df = pd.read_csv(\"../data/BrentOilPrices.csv\")\n",
    "df['Date'] = pd.to_datetime(df['Date'], format='mixed', dayfirst=True, errors='coerce')\n",
    "df = df[df['Date'] >= '2015-01-01']\n",
    "df = df.set_index('Date').resample('ME').mean().reset_index()\n",
    "prices = df['Price'].values\n",
    "dates = df['Date'].values\n",
    "\n",
    "# Load events data\n",
    "events = pd.read_csv(\"../data/events.csv\")\n",
    "events['Date'] = pd.to_datetime(events['Date'], format='%d-%b-%y')\n",
    "\n",
    "# Cell 2: Bayesian Change Point Model\n",
    "with pm.Model() as model:\n",
    "    # Define priors\n",
    "    tau = pm.DiscreteUniform(\"tau\", lower=0, upper=len(prices)-1)  # Change point index\n",
    "    mu_1 = pm.Normal(\"mu_1\", mu=50, sigma=20)  # Mean before change\n",
    "    mu_2 = pm.Normal(\"mu_2\", mu=50, sigma=20)  # Mean after change\n",
    "    sigma = pm.HalfNormal(\"sigma\", sigma=10)    # Common standard deviation\n",
    "\n",
    "    # Switch function for mean\n",
    "    mu = pm.math.switch(tau >= np.arange(len(prices)), mu_1, mu_2)\n",
    "\n",
    "    # Likelihood\n",
    "    observation = pm.Normal(\"obs\", mu=mu, sigma=sigma, observed=prices)\n",
    "\n",
    "    # Sampling\n",
    "    trace = pm.sample(200, tune=100, return_inferencedata=False)\n",
    "\n",
    "# Cell 3: Analyze Results\n",
    "# Plot posterior distribution of tau\n",
    "plt.figure(figsize=(10, 6))\n",
    "plt.hist(trace['tau'], bins=20, density=True, alpha=0.7)\n",
    "plt.title(\"Posterior Distribution of Change Point (2015–2022, Monthly)\")\n",
    "plt.xlabel(\"Time Index\")\n",
    "plt.ylabel(\"Density\")\n",
    "plt.savefig(\"../plots/tau_posterior.png\")\n",
    "plt.close()\n",
    "\n",
    "# Convert tau to date\n",
    "most_likely_tau = int(np.median(trace['tau']))\n",
    "change_point_date = pd.Timestamp(dates[most_likely_tau])  # Convert to Timestamp\n",
    "mu_1_mean = trace['mu_1'].mean()\n",
    "mu_2_mean = trace['mu_2'].mean()\n",
    "price_change = ((mu_2_mean - mu_1_mean) / mu_1_mean) * 100\n",
    "\n",
    "# Find closest event\n",
    "events['Date_Diff'] = abs(events['Date'] - change_point_date)\n",
    "closest_event = events.loc[events['Date_Diff'].idxmin()]\n",
    "\n",
    "# Cell 4: Print Results\n",
    "results = f\"\"\"\n",
    "Change Point Analysis Results (2015–2022, Monthly):\n",
    "- Most Likely Change Point: {change_point_date.strftime('%d-%b-%Y')} (Index: {most_likely_tau})\n",
    "- Mean Price Before: ${mu_1_mean:.2f}\n",
    "- Mean Price After: ${mu_2_mean:.2f}\n",
    "- Price Change: {price_change:.2f}%\n",
    "- Closest Event: {closest_event['Event_Description']} on {closest_event['Date'].strftime('%d-%b-%Y')}\n",
    "\"\"\"\n",
    "print(results)\n",
    "\n",
    "# Save results\n",
    "with open(\"../task2_results.txt\", \"w\") as f:\n",
    "    f.write(results)\n",
    "\n",
    "# Cell 5: Plot Price Series with Change Point\n",
    "plt.figure(figsize=(12, 6))\n",
    "plt.plot(dates, prices, label=\"Brent Oil Price (Monthly Avg)\")\n",
    "plt.axvline(change_point_date, color='red', linestyle='--', label=f\"Change Point ({change_point_date.strftime('%d-%b-%Y')})\")\n",
    "plt.title(\"Brent Oil Prices with Detected Change Point (2015–2022, Monthly)\")\n",
    "plt.xlabel(\"Date\")\n",
    "plt.ylabel(\"Price (USD)\")\n",
    "plt.legend()\n",
    "plt.savefig(\"../plots/change_point.png\")\n",
    "plt.close()"
   ]
  },
  {
   "cell_type": "code",
   "execution_count": null,
   "id": "8ea08ec9-6d4e-4c00-b87d-d988cbc47ceb",
   "metadata": {},
   "outputs": [],
   "source": []
  }
 ],
 "metadata": {
  "kernelspec": {
   "display_name": "Python [conda env:base] *",
   "language": "python",
   "name": "conda-base-py"
  },
  "language_info": {
   "codemirror_mode": {
    "name": "ipython",
    "version": 3
   },
   "file_extension": ".py",
   "mimetype": "text/x-python",
   "name": "python",
   "nbconvert_exporter": "python",
   "pygments_lexer": "ipython3",
   "version": "3.12.7"
  }
 },
 "nbformat": 4,
 "nbformat_minor": 5
}
